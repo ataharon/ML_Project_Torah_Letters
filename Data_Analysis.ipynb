{
 "cells": [
  {
   "cell_type": "code",
   "execution_count": 17,
   "metadata": {
    "collapsed": true
   },
   "outputs": [
    {
     "data": {
      "text/plain": "                          0   1\n0     MOTB002/contour10.png   0\n1     MOTB002/contour11.png   5\n2     MOTB002/contour12.png  26\n3     MOTB002/contour13.png  24\n4     MOTB002/contour14.png   0\n..                      ...  ..\n196  MOTB009/contour430.png   4\n197  MOTB009/contour435.png  18\n198  MOTB009/contour436.png  15\n199  MOTB009/contour440.png  18\n200  MOTB009/contour442.png  18\n\n[2047 rows x 2 columns]",
      "text/html": "<div>\n<style scoped>\n    .dataframe tbody tr th:only-of-type {\n        vertical-align: middle;\n    }\n\n    .dataframe tbody tr th {\n        vertical-align: top;\n    }\n\n    .dataframe thead th {\n        text-align: right;\n    }\n</style>\n<table border=\"1\" class=\"dataframe\">\n  <thead>\n    <tr style=\"text-align: right;\">\n      <th></th>\n      <th>0</th>\n      <th>1</th>\n    </tr>\n  </thead>\n  <tbody>\n    <tr>\n      <th>0</th>\n      <td>MOTB002/contour10.png</td>\n      <td>0</td>\n    </tr>\n    <tr>\n      <th>1</th>\n      <td>MOTB002/contour11.png</td>\n      <td>5</td>\n    </tr>\n    <tr>\n      <th>2</th>\n      <td>MOTB002/contour12.png</td>\n      <td>26</td>\n    </tr>\n    <tr>\n      <th>3</th>\n      <td>MOTB002/contour13.png</td>\n      <td>24</td>\n    </tr>\n    <tr>\n      <th>4</th>\n      <td>MOTB002/contour14.png</td>\n      <td>0</td>\n    </tr>\n    <tr>\n      <th>...</th>\n      <td>...</td>\n      <td>...</td>\n    </tr>\n    <tr>\n      <th>196</th>\n      <td>MOTB009/contour430.png</td>\n      <td>4</td>\n    </tr>\n    <tr>\n      <th>197</th>\n      <td>MOTB009/contour435.png</td>\n      <td>18</td>\n    </tr>\n    <tr>\n      <th>198</th>\n      <td>MOTB009/contour436.png</td>\n      <td>15</td>\n    </tr>\n    <tr>\n      <th>199</th>\n      <td>MOTB009/contour440.png</td>\n      <td>18</td>\n    </tr>\n    <tr>\n      <th>200</th>\n      <td>MOTB009/contour442.png</td>\n      <td>18</td>\n    </tr>\n  </tbody>\n</table>\n<p>2047 rows × 2 columns</p>\n</div>"
     },
     "execution_count": 17,
     "metadata": {},
     "output_type": "execute_result"
    }
   ],
   "source": [
    "import pandas as pd\n",
    "#data from all csvs\n",
    "data = pd.DataFrame()\n",
    "for i in range(2, 10):\n",
    "    new = pd.read_csv(f\"contour_labels_MOTB00{i}.csv\", header=None)\n",
    "    data = data.append(new)\n",
    "data"
   ]
  },
  {
   "cell_type": "code",
   "execution_count": 18,
   "outputs": [
    {
     "name": "stdout",
     "output_type": "stream",
     "text": [
      "Total number of images: 2047\n"
     ]
    }
   ],
   "source": [
    "print(\"Total number of images:\", len(data))"
   ],
   "metadata": {
    "collapsed": false,
    "pycharm": {
     "name": "#%%\n"
    }
   }
  },
  {
   "cell_type": "code",
   "execution_count": 19,
   "outputs": [],
   "source": [
    "num_per_label = data.groupby(1).size()"
   ],
   "metadata": {
    "collapsed": false,
    "pycharm": {
     "name": "#%%\n"
    }
   }
  },
  {
   "cell_type": "code",
   "execution_count": 20,
   "outputs": [],
   "source": [
    "#convert number label to letter of alef bet\n",
    "labels = pd.read_csv(\"alef_bet_key.csv\", header=None)"
   ],
   "metadata": {
    "collapsed": false,
    "pycharm": {
     "name": "#%%\n"
    }
   }
  },
  {
   "cell_type": "code",
   "execution_count": 21,
   "outputs": [
    {
     "data": {
      "text/plain": "<Figure size 1080x720 with 1 Axes>",
      "image/png": "[encoded data removed]"
     },
     "metadata": {
      "needs_background": "light"
     },
     "output_type": "display_data"
    }
   ],
   "source": [
    "import matplotlib.pyplot as plt\n",
    "fig = plt.figure(figsize=(15, 10))\n",
    "plt.bar(labels[1], num_per_label)\n",
    "plt.title(\"Number of images per letter\")\n",
    "plt.show()"
   ],
   "metadata": {
    "collapsed": false,
    "pycharm": {
     "name": "#%%\n"
    }
   }
  },
  {
   "cell_type": "code",
   "execution_count": null,
   "outputs": [],
   "source": [],
   "metadata": {
    "collapsed": false,
    "pycharm": {
     "name": "#%%\n"
    }
   }
  }
 ],
 "metadata": {
  "kernelspec": {
   "display_name": "Python 3",
   "language": "python",
   "name": "python3"
  },
  "language_info": {
   "codemirror_mode": {
    "name": "ipython",
    "version": 2
   },
   "file_extension": ".py",
   "mimetype": "text/x-python",
   "name": "python",
   "nbconvert_exporter": "python",
   "pygments_lexer": "ipython2",
   "version": "2.7.6"
  }
 },
 "nbformat": 4,
 "nbformat_minor": 0
}