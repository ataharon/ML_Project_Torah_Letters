{
 "cells": [
  {
   "cell_type": "code",
   "execution_count": 1,
   "id": "64ff1eb0-7e5b-417a-ab32-452f180a04da",
   "metadata": {},
   "outputs": [],
   "source": [
    "#hide warnings\n",
    "import warnings\n",
    "warnings.filterwarnings('ignore')"
   ]
  },
  {
   "cell_type": "code",
   "execution_count": 2,
   "id": "d70cb7db-a51e-470b-961d-136f599b6917",
   "metadata": {},
   "outputs": [],
   "source": [
    "from IPython.core.display import display\n",
    "from IPython.display import clear_output\n",
    "import ipywidgets as widgets\n",
    "from ipywidgets import FileUpload, Output\n",
    "import pandas as pd\n",
    "from keras.models import load_model\n",
    "from keras.preprocessing import image\n",
    "import io\n",
    "from PIL import Image\n",
    "import numpy as np\n",
    "import matplotlib.pyplot as plt"
   ]
  },
  {
   "cell_type": "code",
   "execution_count": 3,
   "id": "48cfa3b2-02b7-4fe3-8edd-8e2e48bb76e6",
   "metadata": {},
   "outputs": [],
   "source": [
    "def get_labels():\n",
    "    #return df of [label, hebrew letter, name] for each letter in order of model\n",
    "    labels = pd.read_csv(\"alef_bet_key.csv\", header=None)\n",
    "    labels[0] = labels[0].astype(str)\n",
    "    labels = labels.sort_values(0)\n",
    "    labels = labels.reset_index(drop=True)\n",
    "    return labels\n",
    "\n",
    "labels = get_labels()"
   ]
  },
  {
   "cell_type": "code",
   "execution_count": 4,
   "id": "24204b2c-0c21-4d67-96e6-3509eef16ccc",
   "metadata": {},
   "outputs": [
    {
     "name": "stderr",
     "output_type": "stream",
     "text": [
      "2021-12-29 13:22:13.717232: I tensorflow/core/platform/cpu_feature_guard.cc:151] This TensorFlow binary is optimized with oneAPI Deep Neural Network Library (oneDNN) to use the following CPU instructions in performance-critical operations:  AVX2 AVX512F FMA\n",
      "To enable them in other operations, rebuild TensorFlow with the appropriate compiler flags.\n"
     ]
    }
   ],
   "source": [
    "#get the saved model\n",
    "model = load_model('saved_model')"
   ]
  },
  {
   "cell_type": "code",
   "execution_count": 5,
   "id": "03f15f98-5a79-487d-8c0a-3f15a972755d",
   "metadata": {
    "tags": []
   },
   "outputs": [],
   "source": [
    "#input uploaded image and get prediction\n",
    "def predict_from_image(model, img, labels):\n",
    "    #convert and resize image to match model specifications\n",
    "    img = Image.open(io.BytesIO(img))\n",
    "    img = img.resize((64, 64))\n",
    "    img_batch = np.expand_dims(img, axis=0)\n",
    "    \n",
    "    #predict\n",
    "    pred = model.predict(img_batch)\n",
    "    \n",
    "    #get the label\n",
    "    # https://androidkt.com/get-class-labels-from-predict-method-in-keras/\n",
    "    #highest probability = predicted label\n",
    "    prob = np.max(pred)\n",
    "    label = labels[1][np.argmax(pred)]\n",
    "    return pred, label, prob"
   ]
  },
  {
   "cell_type": "code",
   "execution_count": 6,
   "id": "ea3132e5",
   "metadata": {},
   "outputs": [],
   "source": [
    "#sort letters\n",
    "label_nums = [int(i) for i in labels[0]]"
   ]
  },
  {
   "cell_type": "code",
   "execution_count": 7,
   "id": "35e6e677",
   "metadata": {},
   "outputs": [],
   "source": [
    "#show percentages of predictions\n",
    "def show_percs(prediction):\n",
    "    fig = plt.figure(figsize=(15, 10))\n",
    "    #sort xs and ys in order of letters \n",
    "    #https://stackoverflow.com/questions/6618515/sorting-list-based-on-values-from-another-list\n",
    "    xs = [x for _,x in sorted(zip(label_nums,labels[1]))]\n",
    "    ys = [y for _,y in sorted(zip(label_nums,prediction[0]))]\n",
    "    plt.bar(xs, ys)\n",
    "    plt.show()"
   ]
  },
  {
   "cell_type": "code",
   "execution_count": 8,
   "id": "86a39941-dda5-4d12-bf0b-ab2b9697968e",
   "metadata": {
    "tags": []
   },
   "outputs": [],
   "source": [
    "#widget to upload image from computer\n",
    "uploader = FileUpload(accept='.png')\n",
    "output2 = Output()"
   ]
  },
  {
   "cell_type": "code",
   "execution_count": 9,
   "id": "6058b0dd-2fd1-4652-bdee-cf90e4f6efda",
   "metadata": {},
   "outputs": [
    {
     "data": {
      "text/plain": "FileUpload(value={}, accept='.png', description='Upload')",
      "application/vnd.jupyter.widget-view+json": {
       "version_major": 2,
       "version_minor": 0,
       "model_id": "e522ee8d49a442d18ca0f2e7ae890dd3"
      }
     },
     "metadata": {},
     "output_type": "display_data"
    },
    {
     "data": {
      "text/plain": "Output()",
      "application/vnd.jupyter.widget-view+json": {
       "version_major": 2,
       "version_minor": 0,
       "model_id": "2fa853cc3c004f80b4dc63d9aee7ce98"
      }
     },
     "metadata": {},
     "output_type": "display_data"
    }
   ],
   "source": [
    "#when a new file is uploaded, change output to display the new file\n",
    "#https://stackoverflow.com/questions/59259414/can-i-define-an-action-on-file-upload-when-using-ipywidgets-fileupload-widget\n",
    "def on_upload_change(change):\n",
    "    img_name = list(uploader.value)[0]\n",
    "    upload = uploader.value\n",
    "    \n",
    "    with output2:\n",
    "        clear_output()\n",
    "        print(img_name)\n",
    "        img_content = uploader.value[img_name]['content']\n",
    "        img = widgets.Image(value=img_content, height=100, width=100)\n",
    "        display(img)\n",
    "        \n",
    "        #predict and display label\n",
    "        pred, label, prob = predict_from_image(model, img_content, labels)\n",
    "        print(\"letter:\", label)\n",
    "        #print(\"prediction:\", pred)\n",
    "        #if not certain\n",
    "        if prob < 10:\n",
    "            print(\"Anomalous letter\")\n",
    "        \n",
    "        show_percs(pred)\n",
    "        \n",
    "uploader.observe(on_upload_change, names='_counter')\n",
    "display(uploader, output2)"
   ]
  },
  {
   "cell_type": "code",
   "execution_count": null,
   "outputs": [],
   "source": [],
   "metadata": {
    "collapsed": false,
    "pycharm": {
     "name": "#%%\n"
    }
   }
  }
 ],
 "metadata": {
  "kernelspec": {
   "display_name": "Python 3 (ipykernel)",
   "language": "python",
   "name": "python3"
  },
  "language_info": {
   "codemirror_mode": {
    "name": "ipython",
    "version": 3
   },
   "file_extension": ".py",
   "mimetype": "text/x-python",
   "name": "python",
   "nbconvert_exporter": "python",
   "pygments_lexer": "ipython3",
   "version": "3.7.3"
  }
 },
 "nbformat": 4,
 "nbformat_minor": 5
}